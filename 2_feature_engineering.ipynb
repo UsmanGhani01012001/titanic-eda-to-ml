{
 "cells": [
  {
   "cell_type": "code",
   "execution_count": null,
   "id": "b4fa0442-6661-44b5-b9cc-1938f629bc6b",
   "metadata": {},
   "outputs": [],
   "source": [
    "# 2_feature_engineering.py\n",
    "df['family_size'] = df['Parch'] + df['SibSp']\n",
    "df = df.drop(columns=['Parch', 'SibSp'])\n",
    "\n",
    "def get_family_type(size):\n",
    "    if size == 0:\n",
    "        return 'Alone'\n",
    "    elif size <= 2:\n",
    "        return 'Small'\n",
    "    elif size <= 4:\n",
    "        return 'Medium'\n",
    "    else:\n",
    "        return 'Large'\n",
    "df['family_type'] = df['family_size'].apply(get_family_type)\n",
    "df = df.drop(columns=['family_size'])\n",
    "\n",
    "pd.crosstab(df['family_type'], df['Survived'], normalize='index') * 100\n",
    "pd.crosstab(df['Sex'], df['Survived'], normalize='index') * 100\n",
    "pd.crosstab(df['Pclass'], df['Survived'], normalize='index') * 100\n",
    "pd.crosstab(df['Embarked'], df['Survived'], normalize='index') * 100\n",
    "\n",
    "df['Title'] = df['Name'].str.extract('([A-Za-z]+)\\.', expand=False)\n",
    "title_mapping = {\n",
    "    'Mr': 'Mr','Mrs': 'Mrs','Miss': 'Mrs', 'Ms': 'Mrs','Mme': 'Mrs','Mlle': 'Mrs','Master': 'Mr', 'Dr': 'Officers',\n",
    "    'Rev': 'Officers','Col': 'Officers','Major': 'Officers','Capt': 'Officers','Sir': 'VIP','Lady': 'VIP','Don': 'VIP',\n",
    "    'Jonkheer': 'VIP','the Countess': 'VIP'}\n",
    "df['Title'] = df['Title'].map(title_mapping)\n",
    "df = df.drop(columns=['Name', 'PassengerId', 'Ticket'])\n",
    "\n",
    "df['fare_category'] = pd.cut(df['Fare'], bins=[0, 10, 50, 100, float('inf')], labels=['Low', 'Medium', 'High', 'Very High'])\n",
    "df['age_category'] = pd.cut(df['Age'], bins=[0, 12, 19, 59, float('inf')], labels=['Child', 'Teen', 'Adult', 'Senior'])\n",
    "df = df.drop(columns=['Fare', 'Age'])\n",
    "\n",
    "pd.crosstab([df['fare_category'], df['age_category']], df['Survived'], normalize='index') * 100\n",
    "pd.crosstab(df['age_category'], df['Survived'], normalize='index') * 100\n",
    "pd.crosstab(df['fare_category'], df['Survived'], normalize='index') * 100\n",
    "\n",
    "df['Sex'] = df['Sex'].astype('category')\n",
    "df['Embarked'] = df['Embarked'].astype('category')\n",
    "df['family_type'] = df['family_type'].astype('category')\n",
    "df['Title'] = df['Title'].astype('category')\n",
    "pd.get_dummies(df, columns=['Sex', 'Embarked', 'Title', 'family_type', 'fare_category', 'age_category','Pclass'], drop_first=True)\n"
   ]
  }
 ],
 "metadata": {
  "kernelspec": {
   "display_name": "Python (venv1)",
   "language": "python",
   "name": "venv1"
  },
  "language_info": {
   "codemirror_mode": {
    "name": "ipython",
    "version": 3
   },
   "file_extension": ".py",
   "mimetype": "text/x-python",
   "name": "python",
   "nbconvert_exporter": "python",
   "pygments_lexer": "ipython3",
   "version": "3.10.11"
  }
 },
 "nbformat": 4,
 "nbformat_minor": 5
}
