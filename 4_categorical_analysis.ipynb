{
 "cells": [
  {
   "cell_type": "code",
   "execution_count": null,
   "id": "c3aa0a4b-4bcf-4bdc-8aef-f4b7c8235619",
   "metadata": {},
   "outputs": [],
   "source": [
    "# 4_categorical_analysis.py\n",
    "import seaborn as sns\n",
    "import matplotlib.pyplot as plt\n",
    "\n",
    "# Plot bar plot for 'family_size' or similar column\n",
    "# (Assuming the column is not dropped yet in some version)\n",
    "df['family_size'] = df['Parch'] + df['SibSp']\n",
    "df['family_size'].value_counts().plot(kind='bar')\n",
    "plt.xlabel('Port of Embarkation')\n",
    "plt.ylabel('Number of Passengers')\n",
    "plt.title('Number of Passengers per Embarked Port')\n",
    "plt.show()\n",
    "\n",
    "titanic = df.copy()\n",
    "titanic['Family_type'] = titanic['SibSp'] + titanic['Parch']\n",
    "titanic['Family_type'] = titanic['Family_type'].apply(lambda x: 'Alone' if x == 0 else 'With Family')\n",
    "plt.figure(figsize=(4, 5))\n",
    "sns.countplot(data=titanic, x='Family_type', hue='Survived')\n",
    "plt.xlabel('Family Type')\n",
    "plt.ylabel('Number of Passengers')\n",
    "plt.title('Comparison of Survived vs Family Type')\n",
    "plt.legend(title='Survived', loc='upper left', labels=['Not Survived', 'Survived'])\n",
    "plt.show()\n",
    "\n",
    "survival_counts = titanic.groupby(['Family_type', 'Survived']).size().unstack()\n",
    "survival_counts.plot(kind='bar', stacked=True, figsize=(4, 3), color=['red', 'green'])\n",
    "plt.xlabel('Family Type')\n",
    "plt.ylabel('Number of Passengers')\n",
    "plt.title('Comparison of Survived vs Family Type (Stacked)')\n",
    "plt.xticks(rotation=0)\n",
    "plt.legend(title='Survived', labels=['Not Survived', 'Survived'])\n",
    "plt.show()\n",
    "\n",
    "# Statistical insights\n",
    "from scipy.stats import chi2_contingency\n",
    "crosstab = pd.crosstab(df['Survived'], df['Pclass'])\n",
    "chi2, p, _, _ = chi2_contingency(crosstab)\n",
    "print(crosstab)\n",
    "print(f\"Chi2 Stat: {chi2:.2f}, p-value: {p:.4f}\")\n",
    "\n",
    "grouped_data = df.groupby(['Pclass', 'Sex'])['Survived'].sum()\n",
    "print(grouped_data)\n",
    "\n",
    "# Summary stats for categorical\n",
    "value_counts = df['Title'].value_counts()\n",
    "print(value_counts)\n",
    "frequency_distribution = df['Title'].value_counts(normalize=True)\n",
    "print(frequency_distribution)\n",
    "categorical_description = df.describe(include=['object'])\n",
    "print(categorical_description)\n",
    "mode_value = df['Title'].mode()[0]\n",
    "print(mode_value)\n",
    "cardinality = df['Title'].nunique()\n",
    "print(cardinality)\n"
   ]
  }
 ],
 "metadata": {
  "kernelspec": {
   "display_name": "Python (venv1)",
   "language": "python",
   "name": "venv1"
  },
  "language_info": {
   "codemirror_mode": {
    "name": "ipython",
    "version": 3
   },
   "file_extension": ".py",
   "mimetype": "text/x-python",
   "name": "python",
   "nbconvert_exporter": "python",
   "pygments_lexer": "ipython3",
   "version": "3.10.11"
  }
 },
 "nbformat": 4,
 "nbformat_minor": 5
}
